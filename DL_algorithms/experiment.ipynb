{
 "cells": [
  {
   "cell_type": "code",
   "execution_count": 8,
   "metadata": {},
   "outputs": [],
   "source": [
    "from StockDataset import SlidingWindowDataset\n",
    "from StockDatamodule import StockDataModule\n",
    "from Stockmodel import Stock_LSTM\n",
    "import pytorch_lightning as pl"
   ]
  },
  {
   "cell_type": "code",
   "execution_count": null,
   "metadata": {},
   "outputs": [],
   "source": [
    "data_module = StockDataModule(data_dir='/Users/inho/프로젝트/lightning/market_long_data/AAPL_30Min.csv')\n",
    "model = Stock_LSTM(\n",
    "    input_dim = 512, \n",
    "    hidden_dim = 512, \n",
    "    output_dim = 1, # 비교하고자 하는 값이 평균값, 스칼라 값(평균 주식 가격)\n",
    "    seq_length = 512, \n",
    "    LSTM_layers = 2,\n",
    "    dropout = 0.2\n",
    "    )\n",
    "trainer = pl.Trainer(\n",
    "    max_epochs=5\n",
    ")\n",
    "trainer.fit(model, data_module)"
   ]
  }
 ],
 "metadata": {
  "kernelspec": {
   "display_name": "ABS",
   "language": "python",
   "name": "python3"
  },
  "language_info": {
   "codemirror_mode": {
    "name": "ipython",
    "version": 3
   },
   "file_extension": ".py",
   "mimetype": "text/x-python",
   "name": "python",
   "nbconvert_exporter": "python",
   "pygments_lexer": "ipython3",
   "version": "3.10.12"
  },
  "orig_nbformat": 4,
  "vscode": {
   "interpreter": {
    "hash": "cc412b7d9f945a271d50289b361d52b45a3227151f4231f2e85880550f0ebe29"
   }
  }
 },
 "nbformat": 4,
 "nbformat_minor": 2
}
