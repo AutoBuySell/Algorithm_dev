{
 "cells": [
  {
   "cell_type": "code",
   "execution_count": 1,
   "metadata": {},
   "outputs": [],
   "source": [
    "from StockDataset import SlidingWindowDataset\n",
    "from StockDatamodule import StockDataModule\n",
    "from Stockmodel import Stock_LSTM\n",
    "import pytorch_lightning as pl"
   ]
  },
  {
   "cell_type": "code",
   "execution_count": 2,
   "metadata": {},
   "outputs": [
    {
     "name": "stderr",
     "output_type": "stream",
     "text": [
      "GPU available: True (mps), used: True\n",
      "TPU available: False, using: 0 TPU cores\n",
      "IPU available: False, using: 0 IPUs\n",
      "HPU available: False, using: 0 HPUs\n",
      "/Users/inho/miniforge3/envs/ABS/lib/python3.10/site-packages/pytorch_lightning/trainer/connectors/logger_connector/logger_connector.py:67: UserWarning: Starting from v1.9.0, `tensorboardX` has been removed as a dependency of the `pytorch_lightning` package, due to potential conflicts with other packages in the ML ecosystem. For this reason, `logger=True` will use `CSVLogger` as the default logger, unless the `tensorboard` or `tensorboardX` packages are found. Please `pip install lightning[extra]` or one of them to enable TensorBoard support by default\n",
      "  warning_cache.warn(\n",
      "\n",
      "  | Name    | Type    | Params\n",
      "------------------------------------\n",
      "0 | lstm    | LSTM    | 4.2 M \n",
      "1 | dropout | Dropout | 0     \n",
      "2 | fc      | Linear  | 513   \n",
      "------------------------------------\n",
      "4.2 M     Trainable params\n",
      "0         Non-trainable params\n",
      "4.2 M     Total params\n",
      "16.812    Total estimated model params size (MB)\n"
     ]
    },
    {
     "name": "stdout",
     "output_type": "stream",
     "text": [
      "Sanity Checking DataLoader 0:   0%|          | 0/2 [00:00<?, ?it/s]"
     ]
    },
    {
     "name": "stderr",
     "output_type": "stream",
     "text": [
      "/Users/inho/miniforge3/envs/ABS/lib/python3.10/site-packages/pytorch_lightning/trainer/connectors/data_connector.py:432: PossibleUserWarning: The dataloader, val_dataloader, does not have many workers which may be a bottleneck. Consider increasing the value of the `num_workers` argument` (try 10 which is the number of cpus on this machine) in the `DataLoader` init to improve performance.\n",
      "  rank_zero_warn(\n",
      "/Users/inho/Github/AutoBuySell/Algorithm_dev/DL_algorithms/Stockmodel.py:38: UserWarning: Using a target size (torch.Size([32])) that is different to the input size (torch.Size([32, 1])). This will likely lead to incorrect results due to broadcasting. Please ensure they have the same size.\n",
      "  loss = F.mse_loss(y_hat, y)\n"
     ]
    },
    {
     "name": "stdout",
     "output_type": "stream",
     "text": [
      "                                                                           "
     ]
    },
    {
     "name": "stderr",
     "output_type": "stream",
     "text": [
      "/Users/inho/miniforge3/envs/ABS/lib/python3.10/site-packages/pytorch_lightning/trainer/connectors/data_connector.py:432: PossibleUserWarning: The dataloader, train_dataloader, does not have many workers which may be a bottleneck. Consider increasing the value of the `num_workers` argument` (try 10 which is the number of cpus on this machine) in the `DataLoader` init to improve performance.\n",
      "  rank_zero_warn(\n"
     ]
    },
    {
     "name": "stdout",
     "output_type": "stream",
     "text": [
      "Epoch 0:   0%|          | 0/75 [00:00<?, ?it/s] "
     ]
    },
    {
     "name": "stderr",
     "output_type": "stream",
     "text": [
      "/Users/inho/Github/AutoBuySell/Algorithm_dev/DL_algorithms/Stockmodel.py:25: UserWarning: Using a target size (torch.Size([32])) that is different to the input size (torch.Size([32, 1])). This will likely lead to incorrect results due to broadcasting. Please ensure they have the same size.\n",
      "  loss = F.mse_loss(y_hat, y)\n"
     ]
    },
    {
     "name": "stdout",
     "output_type": "stream",
     "text": [
      "Epoch 0:  99%|█████████▊| 74/75 [00:03<00:00, 20.73it/s, v_num=1, train_loss=0.000599]"
     ]
    },
    {
     "name": "stderr",
     "output_type": "stream",
     "text": [
      "/Users/inho/Github/AutoBuySell/Algorithm_dev/DL_algorithms/Stockmodel.py:25: UserWarning: Using a target size (torch.Size([23])) that is different to the input size (torch.Size([23, 1])). This will likely lead to incorrect results due to broadcasting. Please ensure they have the same size.\n",
      "  loss = F.mse_loss(y_hat, y)\n"
     ]
    },
    {
     "name": "stdout",
     "output_type": "stream",
     "text": [
      "Epoch 0: 100%|██████████| 75/75 [00:04<00:00, 17.45it/s, v_num=1, train_loss=0.0542]  "
     ]
    },
    {
     "name": "stderr",
     "output_type": "stream",
     "text": [
      "/Users/inho/Github/AutoBuySell/Algorithm_dev/DL_algorithms/Stockmodel.py:38: UserWarning: Using a target size (torch.Size([22])) that is different to the input size (torch.Size([22, 1])). This will likely lead to incorrect results due to broadcasting. Please ensure they have the same size.\n",
      "  loss = F.mse_loss(y_hat, y)\n"
     ]
    },
    {
     "name": "stdout",
     "output_type": "stream",
     "text": [
      "\n",
      "Epoch 0, Avg. Training Loss: 0.028Avg. Validation Loss: 0.106\n",
      "Epoch 1: 100%|██████████| 75/75 [00:01<00:00, 64.01it/s, v_num=1, train_loss=0.162, val_loss=0.00129]   \n",
      "Epoch 1, Avg. Training Loss: 0.003Avg. Validation Loss: 0.004\n",
      "Epoch 2: 100%|██████████| 75/75 [00:01<00:00, 63.75it/s, v_num=1, train_loss=0.201, val_loss=0.00438]   \n",
      "Epoch 2, Avg. Training Loss: 0.004Avg. Validation Loss: 0.006\n",
      "Epoch 3: 100%|██████████| 75/75 [00:01<00:00, 60.95it/s, v_num=1, train_loss=0.00759, val_loss=0.00563] \n",
      "Epoch 3, Avg. Training Loss: 0.001Avg. Validation Loss: 0.000\n",
      "Epoch 4: 100%|██████████| 75/75 [00:01<00:00, 63.45it/s, v_num=1, train_loss=0.00827, val_loss=0.000495] \n",
      "Epoch 4, Avg. Training Loss: 0.001Avg. Validation Loss: 0.001\n",
      "Epoch 4: 100%|██████████| 75/75 [00:01<00:00, 57.89it/s, v_num=1, train_loss=0.00827, val_loss=0.000519]"
     ]
    },
    {
     "name": "stderr",
     "output_type": "stream",
     "text": [
      "`Trainer.fit` stopped: `max_epochs=5` reached.\n"
     ]
    },
    {
     "name": "stdout",
     "output_type": "stream",
     "text": [
      "Epoch 4: 100%|██████████| 75/75 [00:01<00:00, 55.76it/s, v_num=1, train_loss=0.00827, val_loss=0.000519]\n"
     ]
    }
   ],
   "source": [
    "data_module = StockDataModule(data_path='AAPL_30Min.csv')\n",
    "model = Stock_LSTM(\n",
    "    input_dim = 512, \n",
    "    hidden_dim = 512, \n",
    "    output_dim = 1, # 비교하고자 하는 값이 평균값, 스칼라 값(평균 주식 가격)\n",
    "    seq_length = 512, \n",
    "    LSTM_layers = 2,\n",
    "    dropout = 0.2\n",
    "    )\n",
    "trainer = pl.Trainer(\n",
    "    max_epochs=5\n",
    ")\n",
    "trainer.fit(model, data_module)"
   ]
  },
  {
   "cell_type": "code",
   "execution_count": null,
   "metadata": {},
   "outputs": [],
   "source": []
  }
 ],
 "metadata": {
  "kernelspec": {
   "display_name": "ABS",
   "language": "python",
   "name": "python3"
  },
  "language_info": {
   "codemirror_mode": {
    "name": "ipython",
    "version": 3
   },
   "file_extension": ".py",
   "mimetype": "text/x-python",
   "name": "python",
   "nbconvert_exporter": "python",
   "pygments_lexer": "ipython3",
   "version": "3.10.12"
  },
  "orig_nbformat": 4,
  "vscode": {
   "interpreter": {
    "hash": "cc412b7d9f945a271d50289b361d52b45a3227151f4231f2e85880550f0ebe29"
   }
  }
 },
 "nbformat": 4,
 "nbformat_minor": 2
}
